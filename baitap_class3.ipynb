{
 "cells": [
  {
   "cell_type": "code",
   "execution_count": 58,
   "metadata": {},
   "outputs": [],
   "source": [
    "import pyspark\n",
    "from pyspark.context import SparkContext\n",
    "from pyspark.sql.session import SparkSession\n",
    "from pyspark.sql import functions as F\n"
   ]
  },
  {
   "cell_type": "code",
   "execution_count": 59,
   "metadata": {},
   "outputs": [],
   "source": [
    "path = 'D:\\\\DataEngineerLearn\\\\Final Project\\\\20230126\\\\data.json'"
   ]
  },
  {
   "cell_type": "code",
   "execution_count": 60,
   "metadata": {},
   "outputs": [],
   "source": [
    "spark = SparkSession.builder.config(\"spark.driver.memory\", \"6g\").getOrCreate()"
   ]
  },
  {
   "cell_type": "code",
   "execution_count": 61,
   "metadata": {},
   "outputs": [],
   "source": [
    "ds = spark.read.format('json').option('header','true').load(path)"
   ]
  },
  {
   "cell_type": "code",
   "execution_count": 62,
   "metadata": {},
   "outputs": [
    {
     "name": "stdout",
     "output_type": "stream",
     "text": [
      "+-----+------------+--------------------+--------------------+-------+-----------------+------------+----+--------------------+-------------------+\n",
      "|AppId|       Event|              ItemId|            ItemName| device|        device_id| device_name| isp|            platform|       receive_time|\n",
      "+-----+------------+--------------------+--------------------+-------+-----------------+------------+----+--------------------+-------------------+\n",
      "| IPTV|StartChannel|             vtv5-hd|             VTV5 HD| BoxOTT|D4:CF:F9:63:8C:23|   SEI500FPT| fpt|fplay-ottbox-sei-...|2023-01-26T20:02:59|\n",
      "| IPTV|StartChannel|             vtv5-hd|             VTV5 HD| BoxOTT|D4:CF:F9:63:6B:C0|   SEI500FPT|vnpt|fplay-ottbox-sei-...|2023-01-26T20:02:59|\n",
      "| IPTV|StartChannel|             vtv4-hd|             VTV4 HD|SmartTV|    F5AYANSVAEPIF|Samsung-2021|vnpt|  smarttv-ss-nextgen|2023-01-26T20:02:59|\n",
      "| IPTV|StartChannel|            fpt-play|            FPT Play| BoxOTT|10:39:4E:8A:17:7E|      FHRT2X|vnpt|fplay-ottbox-hise...|2023-01-26T20:02:59|\n",
      "| home|  StartMovie|635c92a0b92a03f3c...|Ai Cũng Biết Em Y...| Mobile| bf3b8fcf5ef5ddae|OPPO CPH2179| fpt|    Android - Normal|2023-01-26T20:02:59|\n",
      "+-----+------------+--------------------+--------------------+-------+-----------------+------------+----+--------------------+-------------------+\n",
      "only showing top 5 rows\n",
      "\n"
     ]
    }
   ],
   "source": [
    "ds.show(5)"
   ]
  },
  {
   "attachments": {},
   "cell_type": "markdown",
   "metadata": {},
   "source": [
    "Top 10 kênh truyền hình được xem nhiều"
   ]
  },
  {
   "cell_type": "code",
   "execution_count": 63,
   "metadata": {},
   "outputs": [
    {
     "name": "stdout",
     "output_type": "stream",
     "text": [
      "root\n",
      " |-- AppId: string (nullable = true)\n",
      " |-- Event: string (nullable = true)\n",
      " |-- ItemId: string (nullable = true)\n",
      " |-- ItemName: string (nullable = true)\n",
      " |-- device: string (nullable = true)\n",
      " |-- device_id: string (nullable = true)\n",
      " |-- device_name: string (nullable = true)\n",
      " |-- isp: string (nullable = true)\n",
      " |-- platform: string (nullable = true)\n",
      " |-- receive_time: string (nullable = true)\n",
      "\n"
     ]
    }
   ],
   "source": [
    "ds.printSchema()"
   ]
  },
  {
   "cell_type": "code",
   "execution_count": 70,
   "metadata": {},
   "outputs": [
    {
     "name": "stdout",
     "output_type": "stream",
     "text": [
      "+--------------------+-----+\n",
      "|            ItemName|count|\n",
      "+--------------------+-----+\n",
      "|Blue Ant Entertai...| 7646|\n",
      "|                VTC8| 5065|\n",
      "|          Ninh Thuận| 3459|\n",
      "|           Boomerang| 3677|\n",
      "|          Vua Bọ Cạp|    6|\n",
      "|             HTV2 HD|26948|\n",
      "|             Đăk Lăk| 5009|\n",
      "|Buông Tay Đi Đồ N...|  120|\n",
      "|            An Giang|20360|\n",
      "|           HaNoiTV 1| 8004|\n",
      "+--------------------+-----+\n",
      "only showing top 10 rows\n",
      "\n"
     ]
    }
   ],
   "source": [
    "ds[ds.AppId == 'IPTV'].select(\"ItemName\").groupBy([\"ItemName\"]).agg(F.count('ItemName').alias('count')).show(10)"
   ]
  },
  {
   "attachments": {},
   "cell_type": "markdown",
   "metadata": {},
   "source": [
    "Top 10 content được search nhiều"
   ]
  },
  {
   "cell_type": "code",
   "execution_count": null,
   "metadata": {},
   "outputs": [
    {
     "name": "stdout",
     "output_type": "stream",
     "text": [
      "+--------------------+-----+\n",
      "|            ItemName|count|\n",
      "+--------------------+-----+\n",
      "|Cô Nàng Đầu Bếp C...|  689|\n",
      "|Pokémon: Victini ...|   23|\n",
      "|  Pokémon (Phần 18) |   40|\n",
      "|Em Là Định Mệnh C...|   19|\n",
      "|        Mộng Hồ Điệp|  271|\n",
      "|Youtuber Mỹ thượn...|   16|\n",
      "|Công Chúa Ngổ Ngá...|    2|\n",
      "|OST 4. Stay Alive...|    4|\n",
      "|Cuộc Sống Thượng ...|    7|\n",
      "|Bộ Sưu Tập Đồ Chơ...|   21|\n",
      "+--------------------+-----+\n",
      "only showing top 10 rows\n",
      "\n"
     ]
    }
   ],
   "source": [
    "ds[ds.AppId == \"SEARCH\"].select(\"ItemName\").groupBy([\"ItemName\"]).count().show(10)"
   ]
  },
  {
   "attachments": {},
   "cell_type": "markdown",
   "metadata": {},
   "source": [
    "Top 10 content được xem nhiều ngoài truyền hình"
   ]
  },
  {
   "cell_type": "code",
   "execution_count": null,
   "metadata": {},
   "outputs": [
    {
     "name": "stdout",
     "output_type": "stream",
     "text": [
      "+--------------------+-----+\n",
      "|            ItemName|count|\n",
      "+--------------------+-----+\n",
      "|Cô Nàng Đầu Bếp C...| 3812|\n",
      "|  Biệt Đội Siêu Nhân|  423|\n",
      "|        Mộng Hồ Điệp| 2967|\n",
      "|Em Là Định Mệnh C...|  320|\n",
      "|  Chuyến Bay Sinh Tử|   34|\n",
      "|  Pokémon (Phần 18) |  204|\n",
      "|Pokémon: Victini ...|  204|\n",
      "|Cô Nàng Đầu Bếp C...|   14|\n",
      "|Sứ Giả Thần Chết ...|    1|\n",
      "|Về Nhà Ăn Tết Đi ...|    5|\n",
      "+--------------------+-----+\n",
      "only showing top 10 rows\n",
      "\n"
     ]
    }
   ],
   "source": [
    "ds[ds.AppId != \"IPTV\"].select(\"ItemName\").groupBy([\"ItemName\"]).count().show(10)"
   ]
  },
  {
   "cell_type": "code",
   "execution_count": null,
   "metadata": {},
   "outputs": [
    {
     "name": "stderr",
     "output_type": "stream",
     "text": [
      "C:\\Users\\TFS-OSS3\\AppData\\Roaming\\Python\\Python311\\site-packages\\pyspark\\sql\\dataframe.py:330: FutureWarning: Deprecated in 2.0, use createOrReplaceTempView instead.\n",
      "  warnings.warn(\"Deprecated in 2.0, use createOrReplaceTempView instead.\", FutureWarning)\n"
     ]
    }
   ],
   "source": [
    "ds.registerTempTable('data')"
   ]
  },
  {
   "cell_type": "code",
   "execution_count": null,
   "metadata": {},
   "outputs": [
    {
     "name": "stdout",
     "output_type": "stream",
     "text": [
      "+--------------+-------------+\n",
      "|      ItemName|TotalDuration|\n",
      "+--------------+-------------+\n",
      "|       VTV1 HD|       531825|\n",
      "|       VTV3 HD|       268745|\n",
      "|Vĩnh Long 1 HD|       184151|\n",
      "|Vĩnh Long 3 HD|       112323|\n",
      "|       VTV2 HD|       108974|\n",
      "|Vĩnh Long 2 HD|       106044|\n",
      "|       VTV5 HD|        97625|\n",
      "|   VTV Cần Thơ|        94002|\n",
      "|       VTV4 HD|        77748|\n",
      "|     Đồng Tháp|        75924|\n",
      "+--------------+-------------+\n",
      "only showing top 10 rows\n",
      "\n"
     ]
    }
   ],
   "source": [
    "spark.sql(\"select ItemName , count(*) as TotalDuration from data group by ItemName order by TotalDuration desc\").show(10)"
   ]
  },
  {
   "cell_type": "code",
   "execution_count": null,
   "metadata": {},
   "outputs": [
    {
     "name": "stdout",
     "output_type": "stream",
     "text": [
      "+--------------+-------+\n",
      "|        device|  count|\n",
      "+--------------+-------+\n",
      "|        BoxOTT|1982586|\n",
      "|       SmartTV| 837684|\n",
      "|         WebOS|  42658|\n",
      "|        Mobile| 354321|\n",
      "|SmartTvAndroid|1073534|\n",
      "+--------------+-------+\n",
      "\n"
     ]
    }
   ],
   "source": [
    "ds.select(\"device\").groupBy([\"device\"]).count().show()"
   ]
  },
  {
   "cell_type": "code",
   "execution_count": null,
   "metadata": {},
   "outputs": [
    {
     "name": "stdout",
     "output_type": "stream",
     "text": [
      "+-----+------------+--------------------+--------------------+-------+-----------------+------------+----+--------------------+-------------------+\n",
      "|AppId|       Event|              ItemId|            ItemName| device|        device_id| device_name| isp|            platform|       receive_time|\n",
      "+-----+------------+--------------------+--------------------+-------+-----------------+------------+----+--------------------+-------------------+\n",
      "| IPTV|StartChannel|             vtv5-hd|             VTV5 HD| BoxOTT|D4:CF:F9:63:8C:23|   SEI500FPT| fpt|fplay-ottbox-sei-...|2023-01-26T20:02:59|\n",
      "| IPTV|StartChannel|             vtv5-hd|             VTV5 HD| BoxOTT|D4:CF:F9:63:6B:C0|   SEI500FPT|vnpt|fplay-ottbox-sei-...|2023-01-26T20:02:59|\n",
      "| IPTV|StartChannel|             vtv4-hd|             VTV4 HD|SmartTV|    F5AYANSVAEPIF|Samsung-2021|vnpt|  smarttv-ss-nextgen|2023-01-26T20:02:59|\n",
      "| IPTV|StartChannel|            fpt-play|            FPT Play| BoxOTT|10:39:4E:8A:17:7E|      FHRT2X|vnpt|fplay-ottbox-hise...|2023-01-26T20:02:59|\n",
      "| home|  StartMovie|635c92a0b92a03f3c...|Ai Cũng Biết Em Y...| Mobile| bf3b8fcf5ef5ddae|OPPO CPH2179| fpt|    Android - Normal|2023-01-26T20:02:59|\n",
      "+-----+------------+--------------------+--------------------+-------+-----------------+------------+----+--------------------+-------------------+\n",
      "only showing top 5 rows\n",
      "\n"
     ]
    }
   ],
   "source": [
    "ds.show(5)"
   ]
  },
  {
   "cell_type": "code",
   "execution_count": 76,
   "metadata": {},
   "outputs": [
    {
     "name": "stdout",
     "output_type": "stream",
     "text": [
      "+--------------+-------+\n",
      "|      ItemName|devices|\n",
      "+--------------+-------+\n",
      "|       VTV1 HD| 179468|\n",
      "|       VTV3 HD|  94095|\n",
      "|Vĩnh Long 1 HD|  69167|\n",
      "|       VTV2 HD|  44605|\n",
      "|      FPT Play|  40862|\n",
      "|       VTV5 HD|  40850|\n",
      "|Vĩnh Long 3 HD|  39638|\n",
      "|   VTV Cần Thơ|  39312|\n",
      "|Vĩnh Long 2 HD|  38760|\n",
      "|       VTV4 HD|  31885|\n",
      "+--------------+-------+\n",
      "only showing top 10 rows\n",
      "\n"
     ]
    }
   ],
   "source": [
    "ds.groupBy('ItemName').agg(F.countDistinct(\"device_id\").alias('devices')).orderBy(F.desc('devices')).show(10)"
   ]
  },
  {
   "cell_type": "code",
   "execution_count": 78,
   "metadata": {},
   "outputs": [
    {
     "name": "stdout",
     "output_type": "stream",
     "text": [
      "+-----+------------+--------------------+--------------------+-------+-----------------+------------+----+--------------------+-------------------+----+\n",
      "|AppId|       Event|              ItemId|            ItemName| device|        device_id| device_name| isp|            platform|       receive_time|Hour|\n",
      "+-----+------------+--------------------+--------------------+-------+-----------------+------------+----+--------------------+-------------------+----+\n",
      "| IPTV|StartChannel|             vtv5-hd|             VTV5 HD| BoxOTT|D4:CF:F9:63:8C:23|   SEI500FPT| fpt|fplay-ottbox-sei-...|2023-01-26T20:02:59|  20|\n",
      "| IPTV|StartChannel|             vtv5-hd|             VTV5 HD| BoxOTT|D4:CF:F9:63:6B:C0|   SEI500FPT|vnpt|fplay-ottbox-sei-...|2023-01-26T20:02:59|  20|\n",
      "| IPTV|StartChannel|             vtv4-hd|             VTV4 HD|SmartTV|    F5AYANSVAEPIF|Samsung-2021|vnpt|  smarttv-ss-nextgen|2023-01-26T20:02:59|  20|\n",
      "| IPTV|StartChannel|            fpt-play|            FPT Play| BoxOTT|10:39:4E:8A:17:7E|      FHRT2X|vnpt|fplay-ottbox-hise...|2023-01-26T20:02:59|  20|\n",
      "| home|  StartMovie|635c92a0b92a03f3c...|Ai Cũng Biết Em Y...| Mobile| bf3b8fcf5ef5ddae|OPPO CPH2179| fpt|    Android - Normal|2023-01-26T20:02:59|  20|\n",
      "+-----+------------+--------------------+--------------------+-------+-----------------+------------+----+--------------------+-------------------+----+\n",
      "only showing top 5 rows\n",
      "\n"
     ]
    }
   ],
   "source": [
    "df_hour = ds.withColumn('Hour', F.hour(ds['receive_time']))\n",
    "df_hour.show(5)"
   ]
  },
  {
   "cell_type": "code",
   "execution_count": 85,
   "metadata": {},
   "outputs": [
    {
     "name": "stdout",
     "output_type": "stream",
     "text": [
      "+----+------+\n",
      "|Hour| Total|\n",
      "+----+------+\n",
      "|  20|444152|\n",
      "|  19|397408|\n",
      "|  18|359391|\n",
      "|  21|348988|\n",
      "|  17|262650|\n",
      "|  16|224279|\n",
      "|  11|220327|\n",
      "|  10|216520|\n",
      "|  12|198117|\n",
      "|  15|192053|\n",
      "+----+------+\n",
      "only showing top 10 rows\n",
      "\n"
     ]
    }
   ],
   "source": [
    "time_usage_behavior = df_hour.select('Hour').groupBy('Hour').count().orderBy(F.desc('count')).withColumnRenamed('count', 'Total').show(10)"
   ]
  },
  {
   "cell_type": "code",
   "execution_count": 96,
   "metadata": {},
   "outputs": [
    {
     "ename": "AnalysisException",
     "evalue": "[UNRESOLVED_COLUMN.WITH_SUGGESTION] A column or function parameter with name `device_id` cannot be resolved. Did you mean one of the following? [`device`, `device_name`, `Date`, `AppID`, `Hour`].;\n'Aggregate [Date#822, Hour#823, device#242, platform#246, device_name#244, ItemName#241, AppID#238], [Date#822, Hour#823, device#242, platform#246, device_name#244, ItemName#241, AppID#238, count('device_id) AS TotalDuration#839, 'count(distinct 'device_id) AS TotalDevices#840]\n+- Project [date_format(cast(receive_time#247 as timestamp), yyyy-MM-dd, Some(Asia/Saigon)) AS Date#822, date_format(cast(receive_time#247 as timestamp), H, Some(Asia/Saigon)) AS Hour#823, device#242, platform#246, device_name#244, ItemName#241, AppID#238]\n   +- Relation [AppId#238,Event#239,ItemId#240,ItemName#241,device#242,device_id#243,device_name#244,isp#245,platform#246,receive_time#247] json\n",
     "output_type": "error",
     "traceback": [
      "\u001b[1;31m---------------------------------------------------------------------------\u001b[0m",
      "\u001b[1;31mAnalysisException\u001b[0m                         Traceback (most recent call last)",
      "Cell \u001b[1;32mIn[96], line 17\u001b[0m\n\u001b[0;32m      1\u001b[0m ETL_output \u001b[39m=\u001b[39m ds\u001b[39m.\u001b[39;49mselect(\n\u001b[0;32m      2\u001b[0m     F\u001b[39m.\u001b[39;49mdate_format(F\u001b[39m.\u001b[39;49mcol(\u001b[39m\"\u001b[39;49m\u001b[39mreceive_time\u001b[39;49m\u001b[39m\"\u001b[39;49m), \u001b[39m\"\u001b[39;49m\u001b[39myyyy-MM-dd\u001b[39;49m\u001b[39m\"\u001b[39;49m)\u001b[39m.\u001b[39;49malias(\u001b[39m\"\u001b[39;49m\u001b[39mDate\u001b[39;49m\u001b[39m\"\u001b[39;49m),\n\u001b[0;32m      3\u001b[0m     F\u001b[39m.\u001b[39;49mdate_format(F\u001b[39m.\u001b[39;49mcol(\u001b[39m\"\u001b[39;49m\u001b[39mreceive_time\u001b[39;49m\u001b[39m\"\u001b[39;49m), \u001b[39m\"\u001b[39;49m\u001b[39mH\u001b[39;49m\u001b[39m\"\u001b[39;49m)\u001b[39m.\u001b[39;49malias(\u001b[39m\"\u001b[39;49m\u001b[39mHour\u001b[39;49m\u001b[39m\"\u001b[39;49m),\n\u001b[0;32m      4\u001b[0m     \u001b[39m\"\u001b[39;49m\u001b[39mdevice\u001b[39;49m\u001b[39m\"\u001b[39;49m,\n\u001b[0;32m      5\u001b[0m     \u001b[39m\"\u001b[39;49m\u001b[39mplatform\u001b[39;49m\u001b[39m\"\u001b[39;49m,\n\u001b[0;32m      6\u001b[0m     \u001b[39m\"\u001b[39;49m\u001b[39mdevice_name\u001b[39;49m\u001b[39m\"\u001b[39;49m,\n\u001b[0;32m      7\u001b[0m     \u001b[39m\"\u001b[39;49m\u001b[39mItemName\u001b[39;49m\u001b[39m\"\u001b[39;49m,\n\u001b[0;32m      8\u001b[0m     \u001b[39m\"\u001b[39;49m\u001b[39mAppID\u001b[39;49m\u001b[39m\"\u001b[39;49m\n\u001b[0;32m      9\u001b[0m )\u001b[39m.\u001b[39;49mgroupBy(\n\u001b[0;32m     10\u001b[0m     \u001b[39m\"\u001b[39;49m\u001b[39mDate\u001b[39;49m\u001b[39m\"\u001b[39;49m,\n\u001b[0;32m     11\u001b[0m     \u001b[39m\"\u001b[39;49m\u001b[39mHour\u001b[39;49m\u001b[39m\"\u001b[39;49m,\n\u001b[0;32m     12\u001b[0m     \u001b[39m\"\u001b[39;49m\u001b[39mdevice\u001b[39;49m\u001b[39m\"\u001b[39;49m,\n\u001b[0;32m     13\u001b[0m     \u001b[39m\"\u001b[39;49m\u001b[39mplatform\u001b[39;49m\u001b[39m\"\u001b[39;49m,\n\u001b[0;32m     14\u001b[0m     \u001b[39m\"\u001b[39;49m\u001b[39mdevice_name\u001b[39;49m\u001b[39m\"\u001b[39;49m,\n\u001b[0;32m     15\u001b[0m     \u001b[39m\"\u001b[39;49m\u001b[39mItemName\u001b[39;49m\u001b[39m\"\u001b[39;49m,\n\u001b[0;32m     16\u001b[0m     \u001b[39m\"\u001b[39;49m\u001b[39mAppID\u001b[39;49m\u001b[39m\"\u001b[39;49m\n\u001b[1;32m---> 17\u001b[0m )\u001b[39m.\u001b[39;49magg(\n\u001b[0;32m     18\u001b[0m     F\u001b[39m.\u001b[39;49mcount(\u001b[39m\"\u001b[39;49m\u001b[39mdevice_id\u001b[39;49m\u001b[39m\"\u001b[39;49m)\u001b[39m.\u001b[39;49malias(\u001b[39m\"\u001b[39;49m\u001b[39mTotalDuration\u001b[39;49m\u001b[39m\"\u001b[39;49m),\n\u001b[0;32m     19\u001b[0m     F\u001b[39m.\u001b[39;49mcountDistinct(\u001b[39m\"\u001b[39;49m\u001b[39mdevice_id\u001b[39;49m\u001b[39m\"\u001b[39;49m)\u001b[39m.\u001b[39;49malias(\u001b[39m\"\u001b[39;49m\u001b[39mTotalDevices\u001b[39;49m\u001b[39m\"\u001b[39;49m)\n\u001b[0;32m     20\u001b[0m )\n",
      "File \u001b[1;32m~\\AppData\\Roaming\\Python\\Python311\\site-packages\\pyspark\\sql\\group.py:175\u001b[0m, in \u001b[0;36mGroupedData.agg\u001b[1;34m(self, *exprs)\u001b[0m\n\u001b[0;32m    173\u001b[0m     \u001b[39massert\u001b[39;00m \u001b[39mall\u001b[39m(\u001b[39misinstance\u001b[39m(c, Column) \u001b[39mfor\u001b[39;00m c \u001b[39min\u001b[39;00m exprs), \u001b[39m\"\u001b[39m\u001b[39mall exprs should be Column\u001b[39m\u001b[39m\"\u001b[39m\n\u001b[0;32m    174\u001b[0m     exprs \u001b[39m=\u001b[39m cast(Tuple[Column, \u001b[39m.\u001b[39m\u001b[39m.\u001b[39m\u001b[39m.\u001b[39m], exprs)\n\u001b[1;32m--> 175\u001b[0m     jdf \u001b[39m=\u001b[39m \u001b[39mself\u001b[39;49m\u001b[39m.\u001b[39;49m_jgd\u001b[39m.\u001b[39;49magg(exprs[\u001b[39m0\u001b[39;49m]\u001b[39m.\u001b[39;49m_jc, _to_seq(\u001b[39mself\u001b[39;49m\u001b[39m.\u001b[39;49msession\u001b[39m.\u001b[39;49m_sc, [c\u001b[39m.\u001b[39;49m_jc \u001b[39mfor\u001b[39;49;00m c \u001b[39min\u001b[39;49;00m exprs[\u001b[39m1\u001b[39;49m:]]))\n\u001b[0;32m    176\u001b[0m \u001b[39mreturn\u001b[39;00m DataFrame(jdf, \u001b[39mself\u001b[39m\u001b[39m.\u001b[39msession)\n",
      "File \u001b[1;32m~\\AppData\\Roaming\\Python\\Python311\\site-packages\\py4j\\java_gateway.py:1322\u001b[0m, in \u001b[0;36mJavaMember.__call__\u001b[1;34m(self, *args)\u001b[0m\n\u001b[0;32m   1316\u001b[0m command \u001b[39m=\u001b[39m proto\u001b[39m.\u001b[39mCALL_COMMAND_NAME \u001b[39m+\u001b[39m\\\n\u001b[0;32m   1317\u001b[0m     \u001b[39mself\u001b[39m\u001b[39m.\u001b[39mcommand_header \u001b[39m+\u001b[39m\\\n\u001b[0;32m   1318\u001b[0m     args_command \u001b[39m+\u001b[39m\\\n\u001b[0;32m   1319\u001b[0m     proto\u001b[39m.\u001b[39mEND_COMMAND_PART\n\u001b[0;32m   1321\u001b[0m answer \u001b[39m=\u001b[39m \u001b[39mself\u001b[39m\u001b[39m.\u001b[39mgateway_client\u001b[39m.\u001b[39msend_command(command)\n\u001b[1;32m-> 1322\u001b[0m return_value \u001b[39m=\u001b[39m get_return_value(\n\u001b[0;32m   1323\u001b[0m     answer, \u001b[39mself\u001b[39;49m\u001b[39m.\u001b[39;49mgateway_client, \u001b[39mself\u001b[39;49m\u001b[39m.\u001b[39;49mtarget_id, \u001b[39mself\u001b[39;49m\u001b[39m.\u001b[39;49mname)\n\u001b[0;32m   1325\u001b[0m \u001b[39mfor\u001b[39;00m temp_arg \u001b[39min\u001b[39;00m temp_args:\n\u001b[0;32m   1326\u001b[0m     \u001b[39mif\u001b[39;00m \u001b[39mhasattr\u001b[39m(temp_arg, \u001b[39m\"\u001b[39m\u001b[39m_detach\u001b[39m\u001b[39m\"\u001b[39m):\n",
      "File \u001b[1;32m~\\AppData\\Roaming\\Python\\Python311\\site-packages\\pyspark\\errors\\exceptions\\captured.py:175\u001b[0m, in \u001b[0;36mcapture_sql_exception.<locals>.deco\u001b[1;34m(*a, **kw)\u001b[0m\n\u001b[0;32m    171\u001b[0m converted \u001b[39m=\u001b[39m convert_exception(e\u001b[39m.\u001b[39mjava_exception)\n\u001b[0;32m    172\u001b[0m \u001b[39mif\u001b[39;00m \u001b[39mnot\u001b[39;00m \u001b[39misinstance\u001b[39m(converted, UnknownException):\n\u001b[0;32m    173\u001b[0m     \u001b[39m# Hide where the exception came from that shows a non-Pythonic\u001b[39;00m\n\u001b[0;32m    174\u001b[0m     \u001b[39m# JVM exception message.\u001b[39;00m\n\u001b[1;32m--> 175\u001b[0m     \u001b[39mraise\u001b[39;00m converted \u001b[39mfrom\u001b[39;00m \u001b[39mNone\u001b[39;00m\n\u001b[0;32m    176\u001b[0m \u001b[39melse\u001b[39;00m:\n\u001b[0;32m    177\u001b[0m     \u001b[39mraise\u001b[39;00m\n",
      "\u001b[1;31mAnalysisException\u001b[0m: [UNRESOLVED_COLUMN.WITH_SUGGESTION] A column or function parameter with name `device_id` cannot be resolved. Did you mean one of the following? [`device`, `device_name`, `Date`, `AppID`, `Hour`].;\n'Aggregate [Date#822, Hour#823, device#242, platform#246, device_name#244, ItemName#241, AppID#238], [Date#822, Hour#823, device#242, platform#246, device_name#244, ItemName#241, AppID#238, count('device_id) AS TotalDuration#839, 'count(distinct 'device_id) AS TotalDevices#840]\n+- Project [date_format(cast(receive_time#247 as timestamp), yyyy-MM-dd, Some(Asia/Saigon)) AS Date#822, date_format(cast(receive_time#247 as timestamp), H, Some(Asia/Saigon)) AS Hour#823, device#242, platform#246, device_name#244, ItemName#241, AppID#238]\n   +- Relation [AppId#238,Event#239,ItemId#240,ItemName#241,device#242,device_id#243,device_name#244,isp#245,platform#246,receive_time#247] json\n"
     ]
    }
   ],
   "source": [
    "ETL_output = ds.select(\n",
    "    F.date_format(F.col(\"receive_time\"), \"yyyy-MM-dd\").alias(\"Date\"),\n",
    "    F.date_format(F.col(\"receive_time\"), \"H\").alias(\"Hour\"),\n",
    "    \"device\",\n",
    "    \"platform\",\n",
    "    \"device_name\",\n",
    "    \"ItemName\",\n",
    "    \"AppID\"\n",
    ").groupBy(\n",
    "    \"Date\",\n",
    "    \"Hour\",\n",
    "    \"device\",\n",
    "    \"platform\",\n",
    "    \"device_name\",\n",
    "    \"ItemName\",\n",
    "    \"AppID\"\n",
    ").agg(\n",
    "    F.count(\"device_id\").alias(\"TotalDuration\"),\n",
    "    F.countDistinct(\"device_id\").alias(\"TotalDevices\")\n",
    ")"
   ]
  }
 ],
 "metadata": {
  "kernelspec": {
   "display_name": "base",
   "language": "python",
   "name": "python3"
  },
  "language_info": {
   "codemirror_mode": {
    "name": "ipython",
    "version": 3
   },
   "file_extension": ".py",
   "mimetype": "text/x-python",
   "name": "python",
   "nbconvert_exporter": "python",
   "pygments_lexer": "ipython3",
   "version": "3.11.3"
  },
  "orig_nbformat": 4
 },
 "nbformat": 4,
 "nbformat_minor": 2
}
